{
 "cells": [
  {
   "cell_type": "markdown",
   "id": "06325e29-bdf0-467a-b892-e8f44dc6cd68",
   "metadata": {},
   "source": [
    "# Assignment (29/01)"
   ]
  },
  {
   "cell_type": "markdown",
   "id": "eb9e42f2-58ec-47e6-8f83-762aa4247ac0",
   "metadata": {},
   "source": [
    "----"
   ]
  },
  {
   "cell_type": "markdown",
   "id": "e83de772-4a12-4423-9a11-89b330289cfa",
   "metadata": {},
   "source": [
    "1. _Dutch programmer **Guido van Rossum**_ developed Python Programming Language."
   ]
  },
  {
   "cell_type": "markdown",
   "id": "ebeee0f9-7106-4f86-a360-943c201229b5",
   "metadata": {},
   "source": [
    "2. Python is an interpreted programming language, which supports **object-oriented**, **structured** and **functional** programming."
   ]
  },
  {
   "cell_type": "markdown",
   "id": "3b6af9a9-6cdf-4ce4-a89e-9e2e7c760663",
   "metadata": {},
   "source": [
    "3. **Yes**, Python is significantly _case sensitive_ when dealing with identifiers."
   ]
  },
  {
   "cell_type": "markdown",
   "id": "70ec807b-8048-4367-b467-e7f6434da90c",
   "metadata": {},
   "source": [
    "4. **‘.py’** is the correct extension of the Python file.  \n",
    "Example: *Untitled.py*"
   ]
  },
  {
   "attachments": {},
   "cell_type": "markdown",
   "id": "1ccd2529-7611-44a7-8f80-fb24db821260",
   "metadata": {},
   "source": [
    "5. Python code is both _compiled_ and _interpreted_. It is _first compiled_ and _then interpreted_."
   ]
  },
  {
   "attachments": {},
   "cell_type": "markdown",
   "id": "82023dec-7791-4b53-b291-318dcb57524d",
   "metadata": {},
   "source": [
    "6. In Python, _conditional statements, loops_ and _functions_ are few blocks of code where **indentation** is used to define them."
   ]
  },
  {
   "attachments": {},
   "cell_type": "markdown",
   "id": "dfd8e27c-ada4-4ac1-9c3f-8f4289727bd1",
   "metadata": {},
   "source": [
    "7. To write single-line comments in Python use the **Hash character '`#`'** at the _beginning of the line_.  \n",
    "Example: _# This is a comment_"
   ]
  },
  {
   "cell_type": "markdown",
   "id": "e9e27772-081c-448e-b7d5-819d562d31c3",
   "metadata": {},
   "source": [
    "8. The function **_sys.version_** can help us to find the version of python that we are currently working on. "
   ]
  },
  {
   "cell_type": "markdown",
   "id": "f9953c49-2c3e-4403-869c-e2fb66d10bf9",
   "metadata": {},
   "source": [
    "9. Python supports the creation of anonymous functions at runtime, using a construct called **_lambda_**."
   ]
  },
  {
   "cell_type": "markdown",
   "id": "c0ef7d5f-7cf8-4e1c-ac6e-14958e01a28a",
   "metadata": {},
   "source": [
    "10. In Python, pip stands for **_Preferred Installer Program_**."
   ]
  },
  {
   "cell_type": "markdown",
   "id": "7ed7d980-b1e5-4b4b-b431-1ab13c49d694",
   "metadata": {},
   "source": [
    "11. `print()`, `type()`, `len()`, `input()`, `int()` and `list()` are few built-in functions in Python."
   ]
  },
  {
   "attachments": {},
   "cell_type": "markdown",
   "id": "d0de2d71-5098-4c92-a8cf-18194abd47a0",
   "metadata": {},
   "source": [
    "12.  Identifiers can be of _infinite length_ in Python."
   ]
  },
  {
   "attachments": {},
   "cell_type": "markdown",
   "id": "214aad50-cf6a-4ea0-b950-c8e4ed9a936b",
   "metadata": {},
   "source": [
    "13. Python programming is a general-purpose programming language with benefits, like: \n",
    "\n",
    "* *Open-source*\n",
    "* *Easy to learn*\n",
    "* *Portable and interactive*\n",
    "* *High-level language*\n",
    "* *Used in trendings fields including Data Science*"
   ]
  },
  {
   "cell_type": "markdown",
   "id": "f62615eb-5683-4a6d-ad40-f05391dabe57",
   "metadata": {},
   "source": [
    "14. Memory management in Python involves a *private heap* containing all **Python objects and data structures**. The management of this private heap is ensured internally by the _Python memory manager_. The Python memory manager has different components which deal with various **dynamic storage management aspects**, like _sharing, segmentation, preallocation_ or _caching_."
   ]
  },
  {
   "cell_type": "markdown",
   "id": "5ab3119d-b857-414f-b4d8-5e066190e0cb",
   "metadata": {},
   "source": [
    "15. Download Python from the given link: *https://www.python.org/downloads/* and install it on the PC.  \n",
    "\n",
    "Now, to set path variables of Python follow the below steps:  \n",
    "\n",
    "* Right-click on *This PC* and go to _Properties_.\n",
    "* Click on the _Advanced System Settings_ in the menu on the left.\n",
    "* Click on the _Environment Variables_ button on the bottom right.\n",
    "* In the _System Variables_ section, select the _Path Variable_ and click on _Edit_. The next screen will show all the directories that are currently a part of the **PATH variable**.\n",
    "* Click on New and enter _Python’s install directory_."
   ]
  },
  {
   "attachments": {},
   "cell_type": "markdown",
   "id": "58315bcf-3ad7-40fb-a9cf-47628e67f308",
   "metadata": {},
   "source": [
    "16. **Yes**, indentation is required in Python. Indentation refers to the **leading whitespaces or tabs** _before any statements_ in Python."
   ]
  },
  {
   "cell_type": "markdown",
   "id": "aa9e94c5-f213-4a2b-b33e-a9803ec2bc89",
   "metadata": {},
   "source": [
    "---"
   ]
  }
 ],
 "metadata": {
  "kernelspec": {
   "display_name": "Python 3",
   "language": "python",
   "name": "python3"
  },
  "language_info": {
   "codemirror_mode": {
    "name": "ipython",
    "version": 3
   },
   "file_extension": ".py",
   "mimetype": "text/x-python",
   "name": "python",
   "nbconvert_exporter": "python",
   "pygments_lexer": "ipython3",
   "version": "3.10.8 (main, Oct 15 2022, 19:00:40)  [GCC 12.2.0 64 bit (AMD64)]"
  },
  "vscode": {
   "interpreter": {
    "hash": "2a8dfe095fce2b5e88c64a2c3ee084c8e0e0d70b23e7b95b1cfb538be294c5c8"
   }
  }
 },
 "nbformat": 4,
 "nbformat_minor": 5
}

{
 "cells": [
  {
   "attachments": {},
   "cell_type": "markdown",
   "id": "b6e4aeab",
   "metadata": {},
   "source": [
    "# Assignment (03/02)"
   ]
  },
  {
   "attachments": {},
   "cell_type": "markdown",
   "id": "1698f0e8",
   "metadata": {},
   "source": [
    "---"
   ]
  },
  {
   "attachments": {},
   "cell_type": "markdown",
   "id": "1bc85051",
   "metadata": {},
   "source": [
    "##### Question 1:\n",
    "`def` keyword is used to create a function. "
   ]
  },
  {
   "cell_type": "code",
   "execution_count": 1,
   "id": "09e91507",
   "metadata": {},
   "outputs": [
    {
     "name": "stdout",
     "output_type": "stream",
     "text": [
      "[1, 3, 5, 7, 9, 11, 13, 15, 17, 19, 21, 23]\n"
     ]
    }
   ],
   "source": [
    "def odd():\n",
    "    arr = []\n",
    "    for x in range(1,25):\n",
    "        if x%2!=0:\n",
    "            arr.append(x)\n",
    "    return arr\n",
    "\n",
    "result = odd()\n",
    "print(result)"
   ]
  },
  {
   "attachments": {},
   "cell_type": "markdown",
   "id": "29be96c5",
   "metadata": {},
   "source": [
    "##### Question 2:\n",
    "`*args` allows us to pass a variable number of non-keyword arguments to a Python function. In the function, we should use an asterisk (*) before the parameter name to pass a variable number of arguments.  \n",
    "\n",
    "`**kwargs` allows us to pass a variable number of keyword arguments to a Python function. In the function, we use the double-asterisk (**) before the parameter name to denote this type of argument."
   ]
  },
  {
   "cell_type": "code",
   "execution_count": 4,
   "id": "b28d29d9",
   "metadata": {},
   "outputs": [
    {
     "name": "stdout",
     "output_type": "stream",
     "text": [
      "(1, 2, 3)\n",
      "('abc', 'xyz')\n"
     ]
    }
   ],
   "source": [
    "def fun(*a):\n",
    "    print(a)\n",
    "\n",
    "fun(1,2,3)\n",
    "fun('abc','xyz')"
   ]
  },
  {
   "cell_type": "code",
   "execution_count": 12,
   "id": "8816e132",
   "metadata": {},
   "outputs": [
    {
     "name": "stdout",
     "output_type": "stream",
     "text": [
      "Name = Akash\n",
      "Id = 10\n",
      "\n",
      "x = 5\n",
      "y = 10\n",
      "\n"
     ]
    }
   ],
   "source": [
    "def fun(**ka):\n",
    "    for x, y in ka.items():\n",
    "        print(x,'=',y)\n",
    "    print()\n",
    "fun(Name='Akash', Id=10)\n",
    "fun(x=5, y=10)"
   ]
  },
  {
   "attachments": {},
   "cell_type": "markdown",
   "id": "17bb4ddb",
   "metadata": {},
   "source": [
    "##### Question 3:\n",
    "_Iterator_ in Python is an object that is used to iterate over iterable objects like lists, tuples, dicts, and sets. The iterator object is initialized using the `iter()` method. It uses the `next()` method for iteration."
   ]
  },
  {
   "cell_type": "code",
   "execution_count": 13,
   "id": "c224e39f",
   "metadata": {},
   "outputs": [
    {
     "name": "stdout",
     "output_type": "stream",
     "text": [
      "2 4 6 8 10 "
     ]
    }
   ],
   "source": [
    "l=[2, 4, 6, 8, 10, 12, 14, 16, 18, 20]\n",
    "i=iter(l)\n",
    "for x in range(5):\n",
    "    print(next(i),end=' ')"
   ]
  },
  {
   "attachments": {},
   "cell_type": "markdown",
   "id": "ff418847",
   "metadata": {},
   "source": [
    "##### Question 4:\n",
    "_Generator function_ help us to generate an generator object which can be traversed by for loop.  \n",
    "The `yield` keyword in Python controls the flow of a generator function."
   ]
  },
  {
   "cell_type": "code",
   "execution_count": 23,
   "id": "bfbaa9b0",
   "metadata": {},
   "outputs": [
    {
     "name": "stdout",
     "output_type": "stream",
     "text": [
      "0\n",
      "1\n",
      "2\n",
      "3\n",
      "4\n"
     ]
    }
   ],
   "source": [
    "def gen(n):\n",
    "    value = 0\n",
    "    while value<n:\n",
    "        yield value\n",
    "        value += 1\n",
    "for value in gen(5):\n",
    "    print(value)"
   ]
  },
  {
   "attachments": {},
   "cell_type": "markdown",
   "id": "7080a8e3",
   "metadata": {},
   "source": [
    "##### Question 5:"
   ]
  },
  {
   "cell_type": "code",
   "execution_count": 30,
   "id": "5b54520d",
   "metadata": {},
   "outputs": [
    {
     "name": "stdout",
     "output_type": "stream",
     "text": [
      "2\n",
      "3\n",
      "5\n",
      "7\n",
      "11\n",
      "13\n",
      "17\n",
      "19\n",
      "23\n",
      "29\n",
      "31\n",
      "37\n",
      "41\n",
      "43\n",
      "47\n",
      "53\n",
      "59\n",
      "61\n",
      "67\n",
      "71\n"
     ]
    }
   ],
   "source": [
    "def prime():\n",
    "    l = []\n",
    "    for i in range(2, 1000):\n",
    "        f = True\n",
    "        for p in l:\n",
    "            if i % p == 0:\n",
    "                f = False\n",
    "                break\n",
    "        if f:\n",
    "            l.append(i)\n",
    "            yield i\n",
    "gen = prime()\n",
    "\n",
    "for i in range(20):\n",
    "    print(next(gen))"
   ]
  },
  {
   "attachments": {},
   "cell_type": "markdown",
   "id": "a50ae2f4",
   "metadata": {},
   "source": [
    "##### Question 6:"
   ]
  },
  {
   "cell_type": "code",
   "execution_count": 21,
   "id": "abb79fd3",
   "metadata": {},
   "outputs": [
    {
     "name": "stdout",
     "output_type": "stream",
     "text": [
      "0\n",
      "1\n",
      "1\n",
      "2\n",
      "3\n",
      "5\n",
      "8\n",
      "13\n",
      "21\n",
      "34\n"
     ]
    }
   ],
   "source": [
    "n = 10\n",
    "a,b = 0,1\n",
    "while n>0:\n",
    "    print(a)\n",
    "    c = a+b\n",
    "    a = b\n",
    "    b = c\n",
    "    n = n-1"
   ]
  },
  {
   "attachments": {},
   "cell_type": "markdown",
   "id": "785682d2",
   "metadata": {},
   "source": [
    "##### Question 7:"
   ]
  },
  {
   "cell_type": "code",
   "execution_count": 16,
   "id": "81790b68",
   "metadata": {},
   "outputs": [
    {
     "data": {
      "text/plain": [
       "['p', 'w', 's', 'k', 'i', 'l', 'l', 's']"
      ]
     },
     "execution_count": 16,
     "metadata": {},
     "output_type": "execute_result"
    }
   ],
   "source": [
    "l=[i for i in \"pwskills\"]\n",
    "l"
   ]
  },
  {
   "attachments": {},
   "cell_type": "markdown",
   "id": "c1c8dd05",
   "metadata": {},
   "source": [
    "##### Question 8:"
   ]
  },
  {
   "cell_type": "code",
   "execution_count": 20,
   "id": "8a5131cd",
   "metadata": {},
   "outputs": [
    {
     "name": "stdout",
     "output_type": "stream",
     "text": [
      "121 is a Palindrome Number \n"
     ]
    }
   ],
   "source": [
    "n = int(input('Number = '))\n",
    "temp = n \n",
    "rev = 0\n",
    "while temp>0:\n",
    "    rev = rev*10 + (temp%10)\n",
    "    temp = temp//10\n",
    "if n==rev:\n",
    "    print('{} is a Palindrome Number '.format(n))\n",
    "else:\n",
    "    print('{} is not a Palindrome Number '.format(n))"
   ]
  },
  {
   "attachments": {},
   "cell_type": "markdown",
   "id": "45dc26ae",
   "metadata": {},
   "source": [
    "##### Question 9:"
   ]
  },
  {
   "cell_type": "code",
   "execution_count": 15,
   "id": "74a63079",
   "metadata": {},
   "outputs": [
    {
     "name": "stdout",
     "output_type": "stream",
     "text": [
      "[1, 3, 5, 7, 9, 11, 13, 15, 17, 19, 21, 23, 25, 27, 29, 31, 33, 35, 37, 39, 41, 43, 45, 47, 49, 51, 53, 55, 57, 59, 61, 63, 65, 67, 69, 71, 73, 75, 77, 79, 81, 83, 85, 87, 89, 91, 93, 95, 97, 99]\n"
     ]
    }
   ],
   "source": [
    "l = [i for i in range(1,100)]\n",
    "def f(n):\n",
    "    if n%2!=0:\n",
    "        return True\n",
    "    else:\n",
    "        return False\n",
    "nl = list(filter(f,l))\n",
    "print(nl)"
   ]
  },
  {
   "attachments": {},
   "cell_type": "markdown",
   "id": "3610ea11",
   "metadata": {},
   "source": [
    "---"
   ]
  }
 ],
 "metadata": {
  "kernelspec": {
   "display_name": "Python 3",
   "language": "python",
   "name": "python3"
  },
  "language_info": {
   "codemirror_mode": {
    "name": "ipython",
    "version": 3
   },
   "file_extension": ".py",
   "mimetype": "text/x-python",
   "name": "python",
   "nbconvert_exporter": "python",
   "pygments_lexer": "ipython3",
   "version": "3.10.5"
  },
  "vscode": {
   "interpreter": {
    "hash": "73261e48852d51a8619d3559d80afe0391a56a50e480a00694bcdf352813ba28"
   }
  }
 },
 "nbformat": 4,
 "nbformat_minor": 5
}

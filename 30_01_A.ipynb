{
 "cells": [
  {
   "cell_type": "markdown",
   "id": "8c78848b-e094-4708-838d-1e99d8114fdf",
   "metadata": {},
   "source": [
    "# Assignment (30/01)"
   ]
  },
  {
   "cell_type": "markdown",
   "id": "ba1bc4af-c927-4f18-9c88-e8bdf7312653",
   "metadata": {},
   "source": [
    "---"
   ]
  },
  {
   "cell_type": "markdown",
   "id": "59e60154-f760-40b2-ac87-7fc370b52b68",
   "metadata": {},
   "source": [
    "##### Question 1:"
   ]
  },
  {
   "cell_type": "code",
   "execution_count": 1,
   "id": "adab2f6d-26ce-4ebe-b0cc-f6bc4066677b",
   "metadata": {},
   "outputs": [
    {
     "name": "stdin",
     "output_type": "stream",
     "text": [
      "Enter your Percentage =  86.2\n"
     ]
    },
    {
     "name": "stdout",
     "output_type": "stream",
     "text": [
      "B\n"
     ]
    }
   ],
   "source": [
    "per = float(input('Enter your Percentage = '))\n",
    "if per>90:\n",
    "    print('A')\n",
    "elif per>80 and per<=90:\n",
    "    print('B')\n",
    "elif per>=60 and per<=80:\n",
    "    print('C')\n",
    "else:\n",
    "    print('D')"
   ]
  },
  {
   "cell_type": "markdown",
   "id": "038715ed-4bb1-4f6f-8ca3-1eaaa0aa5891",
   "metadata": {},
   "source": [
    "##### Question 2:"
   ]
  },
  {
   "cell_type": "code",
   "execution_count": 2,
   "id": "ffaa4caf-a6ca-4ece-87e0-4a85f3e906d2",
   "metadata": {},
   "outputs": [
    {
     "name": "stdin",
     "output_type": "stream",
     "text": [
      "Price =  80000\n"
     ]
    },
    {
     "name": "stdout",
     "output_type": "stream",
     "text": [
      "Tax price =  8000.0\n"
     ]
    }
   ],
   "source": [
    "price = int(input('Price = '))\n",
    "tax = None\n",
    "if price<=50000:\n",
    "    tax= price*0.05\n",
    "elif price>50000 and price<=100000:\n",
    "    tax = price*0.10\n",
    "else:\n",
    "    tax = price*0.15\n",
    "print('Tax price = ', tax)"
   ]
  },
  {
   "cell_type": "markdown",
   "id": "10dc2b96-bf41-44c8-9c6b-1fa1cea62ed4",
   "metadata": {},
   "source": [
    "##### Question 3:"
   ]
  },
  {
   "cell_type": "code",
   "execution_count": 3,
   "id": "bcfb210b-9710-4cd0-bd86-c74a456a59b8",
   "metadata": {},
   "outputs": [
    {
     "name": "stdin",
     "output_type": "stream",
     "text": [
      "Enter the city name =  Agra\n"
     ]
    },
    {
     "name": "stdout",
     "output_type": "stream",
     "text": [
      "Taj Mahal\n"
     ]
    }
   ],
   "source": [
    "city = input('Enter the city name = ').lower()\n",
    "if city == 'delhi':\n",
    "    print('Red Fort')\n",
    "elif city == 'agra':\n",
    "    print('Taj Mahal')\n",
    "elif city == 'jaipur':\n",
    "    print('Jal Mahal')\n",
    "else:\n",
    "    pass"
   ]
  },
  {
   "cell_type": "markdown",
   "id": "42443c0b-06fd-4ae3-b6c4-033d77e26742",
   "metadata": {},
   "source": [
    "##### Question 4:"
   ]
  },
  {
   "cell_type": "code",
   "execution_count": 4,
   "id": "9ab5a044-67e2-4e18-a98c-87936799003c",
   "metadata": {},
   "outputs": [
    {
     "name": "stdin",
     "output_type": "stream",
     "text": [
      "Enter a number =  9876\n"
     ]
    },
    {
     "name": "stdout",
     "output_type": "stream",
     "text": [
      "Number of times =  7\n"
     ]
    }
   ],
   "source": [
    "num = int(input('Enter a number = '))\n",
    "f=0\n",
    "while num>10:\n",
    "    num = num/3;\n",
    "    f = f+1\n",
    "print('Number of times = ', f)"
   ]
  },
  {
   "cell_type": "markdown",
   "id": "3f8c5aeb-4bbd-4fe5-b8ee-e3834229b4d6",
   "metadata": {},
   "source": [
    "##### Question 5.  \n",
    "_Python `while` Loop_ is used to execute a block of statements repeatedly until a given condition is **true** and when the condition becomes **false**, the line immediately after the loop in the program is executed.  \n",
    "_`while` loop_ falls under the category of **indefinite iteration**. Indefinite iteration means that the number of times the loop is executed isn’t specified explicitly in advance.  "
   ]
  },
  {
   "cell_type": "code",
   "execution_count": 6,
   "id": "877a4908-4976-403d-895e-76d392eeebae",
   "metadata": {},
   "outputs": [
    {
     "name": "stdout",
     "output_type": "stream",
     "text": [
      "Hello\n",
      "Hello\n",
      "Hello\n"
     ]
    }
   ],
   "source": [
    "#Example:  \n",
    "c = 0\n",
    "while c<3:\n",
    "    c=c+1\n",
    "    print('Hello')  \n",
    "#This above example prints 'Hello' 3 times."
   ]
  },
  {
   "cell_type": "markdown",
   "id": "b8961479-b2b8-4f53-95b6-b1fbfdc1fa65",
   "metadata": {},
   "source": [
    "##### Question 6:"
   ]
  },
  {
   "cell_type": "code",
   "execution_count": 26,
   "id": "2ade793b-0c30-4cfa-b149-940d6f05a444",
   "metadata": {},
   "outputs": [
    {
     "name": "stdout",
     "output_type": "stream",
     "text": [
      "First Pattern\n",
      "\n",
      "* \n",
      "* * \n",
      "* * * \n",
      "* * * * \n",
      "* * * * * \n",
      "\n",
      "Second Pattern\n",
      "\n",
      "* * * * * \n",
      "* * * * \n",
      "* * * \n",
      "* * \n",
      "* \n",
      "\n",
      "Third Pattern\n",
      "\n",
      "          * \n",
      "        * * \n",
      "      * * * \n",
      "    * * * * \n",
      "  * * * * * \n"
     ]
    }
   ],
   "source": [
    "n=5\n",
    "\n",
    "print('First Pattern\\n')\n",
    "i=0\n",
    "while i<n:\n",
    "    j=0\n",
    "    while j<=i:\n",
    "        print('*', end=' ')\n",
    "        j+=1\n",
    "    i+=1\n",
    "    print()\n",
    "\n",
    "print('\\nSecond Pattern\\n')\n",
    "i=0\n",
    "while i<n:\n",
    "    j=n-1\n",
    "    while j>=i:\n",
    "        print('*', end=' ')\n",
    "        j-=1\n",
    "    i+=1\n",
    "    print()\n",
    "    \n",
    "print('\\nThird Pattern\\n')\n",
    "i=0\n",
    "while i<n:\n",
    "    p=n-1\n",
    "    while p>=i:\n",
    "        print(end='  ')\n",
    "        p-=1\n",
    "    j=0\n",
    "    while j<=i:\n",
    "        print('*', end=' ')\n",
    "        j+=1\n",
    "    i+=1\n",
    "    print()"
   ]
  },
  {
   "cell_type": "markdown",
   "id": "4bcc8c0d-6a2d-4ff3-b657-90aec5ea749a",
   "metadata": {},
   "source": [
    "##### Question 7:"
   ]
  },
  {
   "cell_type": "code",
   "execution_count": 28,
   "id": "af8888dc-81ae-4cd0-8a2d-1d355dfd8b88",
   "metadata": {},
   "outputs": [
    {
     "name": "stdout",
     "output_type": "stream",
     "text": [
      "10\n",
      "9\n",
      "8\n",
      "7\n",
      "6\n",
      "5\n",
      "4\n",
      "3\n",
      "2\n",
      "1\n"
     ]
    }
   ],
   "source": [
    "a=10\n",
    "while a>0:\n",
    "    print(a)\n",
    "    a-=1"
   ]
  },
  {
   "cell_type": "markdown",
   "id": "81e761ee-c243-4bd3-b177-4fddc06dbc27",
   "metadata": {},
   "source": [
    "##### Question 8:"
   ]
  },
  {
   "cell_type": "code",
   "execution_count": 29,
   "id": "ae591969-33ea-4eb0-9ff4-fb968d3802c4",
   "metadata": {},
   "outputs": [
    {
     "name": "stdout",
     "output_type": "stream",
     "text": [
      "10\n",
      "9\n",
      "8\n",
      "7\n",
      "6\n",
      "5\n",
      "4\n",
      "3\n",
      "2\n",
      "1\n"
     ]
    }
   ],
   "source": [
    "n=10\n",
    "while n>0:\n",
    "    print(n)\n",
    "    n-=1"
   ]
  },
  {
   "cell_type": "markdown",
   "id": "be157d7b-ab6d-41ef-8d3f-143d40d88503",
   "metadata": {},
   "source": [
    "---"
   ]
  }
 ],
 "metadata": {
  "kernelspec": {
   "display_name": "Python 3 (ipykernel)",
   "language": "python",
   "name": "python3"
  },
  "language_info": {
   "codemirror_mode": {
    "name": "ipython",
    "version": 3
   },
   "file_extension": ".py",
   "mimetype": "text/x-python",
   "name": "python",
   "nbconvert_exporter": "python",
   "pygments_lexer": "ipython3",
   "version": "3.10.6"
  }
 },
 "nbformat": 4,
 "nbformat_minor": 5
}

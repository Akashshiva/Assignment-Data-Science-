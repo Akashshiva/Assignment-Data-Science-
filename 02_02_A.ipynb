{
 "cells": [
  {
   "attachments": {},
   "cell_type": "markdown",
   "id": "b6e4aeab",
   "metadata": {},
   "source": [
    "# Assignment (02/02)"
   ]
  },
  {
   "attachments": {},
   "cell_type": "markdown",
   "id": "1698f0e8",
   "metadata": {},
   "source": [
    "---"
   ]
  },
  {
   "attachments": {},
   "cell_type": "markdown",
   "id": "1bc85051",
   "metadata": {},
   "source": [
    "##### Question 1:  \n",
    "_`for` Loop_: A `for` loop is an iteration method that is best used when we know the number of iterations ahead of time. It’s always followed by the initialization, expression and increment statements.  \n",
    "\n",
    "_`while` Loop_: A `while` loop is an iteration method that is best used when we don't know the number of iterations ahead of time. The contents of the loop are executed as long as the expression evaluates to true."
   ]
  },
  {
   "cell_type": "code",
   "execution_count": 5,
   "id": "09e91507",
   "metadata": {},
   "outputs": [
    {
     "name": "stdout",
     "output_type": "stream",
     "text": [
      "10\n",
      "10\n"
     ]
    }
   ],
   "source": [
    "#Example_for_loop:\n",
    "for x in range(1,3):\n",
    "    x=10\n",
    "    print(x)\n",
    "#Number of iterations are fixed (i.e. 2 time)"
   ]
  },
  {
   "cell_type": "code",
   "execution_count": 10,
   "id": "fea69676",
   "metadata": {},
   "outputs": [
    {
     "name": "stdout",
     "output_type": "stream",
     "text": [
      "1\n"
     ]
    }
   ],
   "source": [
    "#Example_while_loop:\n",
    "x=1\n",
    "while x<5:\n",
    "    print(x)\n",
    "    x=10\n",
    "#Number of iterations are not fixed "
   ]
  },
  {
   "attachments": {},
   "cell_type": "markdown",
   "id": "29be96c5",
   "metadata": {},
   "source": [
    "##### Question 2:"
   ]
  },
  {
   "cell_type": "code",
   "execution_count": 13,
   "id": "b28d29d9",
   "metadata": {},
   "outputs": [
    {
     "name": "stdout",
     "output_type": "stream",
     "text": [
      "55 3628800\n"
     ]
    }
   ],
   "source": [
    "#Using for loop\n",
    "s = 0 \n",
    "p = 1\n",
    "for a in range(10):\n",
    "  a+=1\n",
    "  s+=a\n",
    "  p*=a\n",
    "print(b, c)"
   ]
  },
  {
   "cell_type": "code",
   "execution_count": 14,
   "id": "0e978e46",
   "metadata": {},
   "outputs": [
    {
     "name": "stdout",
     "output_type": "stream",
     "text": [
      "55 3628800\n"
     ]
    }
   ],
   "source": [
    "#Using while loop\n",
    "s = 0 \n",
    "p = 1\n",
    "while a<10:\n",
    "  a+=1\n",
    "  s+=a\n",
    "  p*=a\n",
    "print(b, c)"
   ]
  },
  {
   "attachments": {},
   "cell_type": "markdown",
   "id": "17bb4ddb",
   "metadata": {},
   "source": [
    "##### Question 3:"
   ]
  },
  {
   "cell_type": "code",
   "execution_count": 15,
   "id": "c224e39f",
   "metadata": {},
   "outputs": [
    {
     "name": "stdout",
     "output_type": "stream",
     "text": [
      "Electricity Bill =  2250.0\n"
     ]
    }
   ],
   "source": [
    "unit = int(input('Number of units = '))\n",
    "price = 0 \n",
    "if unit<=100:\n",
    "    price = (4.5 * unit)\n",
    "elif unit>100 and unit<=200:\n",
    "    price = 4.5 * 100 + 6 * (unit-100)\n",
    "elif unit > 200 and unit <= 300:\n",
    "    price = 4.5 * 100 + 6 * 100 + 10 * (unit - 200)\n",
    "else:\n",
    "    price = 4.5 * 100 + 6 * 100 + 10 * 100 + 20 * (unit-300)\n",
    "print('Electricity Bill = ', price)"
   ]
  },
  {
   "attachments": {},
   "cell_type": "markdown",
   "id": "ff418847",
   "metadata": {},
   "source": [
    "##### Question 4:"
   ]
  },
  {
   "cell_type": "code",
   "execution_count": 17,
   "id": "0009a007",
   "metadata": {},
   "outputs": [
    {
     "name": "stdout",
     "output_type": "stream",
     "text": [
      "[2, 4, 5, 6, 8, 10, 12, 14, 15, 16, 18, 20, 22, 24, 25, 26, 28, 30, 32, 34, 35, 36, 38, 40, 42, 44, 45, 46, 48, 50, 52, 54, 55, 56, 58, 60, 62, 64, 65, 66, 68, 70, 72, 74, 75, 76, 78, 80, 82, 84, 85, 86, 88, 90, 92, 94, 95, 96, 98, 100]\n"
     ]
    }
   ],
   "source": [
    "#Using for loop\n",
    "result = []\n",
    "arr = list(range(1,101))\n",
    "for x in arr:\n",
    "    cube = x**3\n",
    "    if cube%4 == 0 or cube%5 == 0:\n",
    "        result.append(x)\n",
    "print(result)"
   ]
  },
  {
   "cell_type": "code",
   "execution_count": 25,
   "id": "09ab42de",
   "metadata": {},
   "outputs": [
    {
     "name": "stdout",
     "output_type": "stream",
     "text": [
      "[2, 4, 5, 6, 8, 10, 12, 14, 15, 16, 18, 20, 22, 24, 25, 26, 28, 30, 32, 34, 35, 36, 38, 40, 42, 44, 45, 46, 48, 50, 52, 54, 55, 56, 58, 60, 62, 64, 65, 66, 68, 70, 72, 74, 75, 76, 78, 80, 82, 84, 85, 86, 88, 90, 92, 94, 95, 96, 98, 100]\n"
     ]
    }
   ],
   "source": [
    "#Using while loop\n",
    "result = []\n",
    "x = 1\n",
    "while x<101:\n",
    "    cube = x**3\n",
    "    if cube%4 == 0 or cube%5 == 0:\n",
    "        result.append(x)\n",
    "    x+=1\n",
    "print(result)"
   ]
  },
  {
   "attachments": {},
   "cell_type": "markdown",
   "id": "7080a8e3",
   "metadata": {},
   "source": [
    "##### Question 5:"
   ]
  },
  {
   "cell_type": "code",
   "execution_count": 26,
   "id": "b4b9aba6",
   "metadata": {},
   "outputs": [
    {
     "name": "stdout",
     "output_type": "stream",
     "text": [
      "Number of vowels =  12\n"
     ]
    }
   ],
   "source": [
    "string = \"I want to become a data scientist\"\n",
    "count_vowels = 0\n",
    "for i in string :\n",
    "    if i.lower() in ['a','e','i','o','u']:\n",
    "        count_vowels += 1\n",
    "        \n",
    "print('Number of vowels = ', count_vowels) "
   ]
  },
  {
   "attachments": {},
   "cell_type": "markdown",
   "id": "3610ea11",
   "metadata": {},
   "source": [
    "---"
   ]
  }
 ],
 "metadata": {
  "kernelspec": {
   "display_name": "Python 3",
   "language": "python",
   "name": "python3"
  },
  "language_info": {
   "codemirror_mode": {
    "name": "ipython",
    "version": 3
   },
   "file_extension": ".py",
   "mimetype": "text/x-python",
   "name": "python",
   "nbconvert_exporter": "python",
   "pygments_lexer": "ipython3",
   "version": "3.10.5"
  },
  "vscode": {
   "interpreter": {
    "hash": "73261e48852d51a8619d3559d80afe0391a56a50e480a00694bcdf352813ba28"
   }
  }
 },
 "nbformat": 4,
 "nbformat_minor": 5
}
